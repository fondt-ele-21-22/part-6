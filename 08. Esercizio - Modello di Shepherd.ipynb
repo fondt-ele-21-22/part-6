{
 "cells": [
  {
   "cell_type": "markdown",
   "metadata": {
    "slideshow": {
     "slide_type": "subslide"
    }
   },
   "source": [
    "## Esercizio: Modello di Shepherd\n",
    "\n",
    "**Il modello di popolazione _Shepherd_ è definito dalla ricorsione:**\n",
    "\n",
    "$$\n",
    "x_{k+1} = \\frac{r x_k}{1 + \\left(\\frac{x_k}{N}\\right)^2}\n",
    "$$\n",
    "\n",
    "* Dove:\n",
    "  - $x_k$ è il valore della popolazione al passo $k$\n",
    "  - $r > 0$ è il tasso di crescita\n",
    "  - $N$ è un valore di popolazione che, se raggiunto, dimezza $r$"
   ]
  },
  {
   "cell_type": "markdown",
   "metadata": {
    "slideshow": {
     "slide_type": "subslide"
    }
   },
   "source": [
    "## Esercizio: Modello di Shepherd\n",
    "\n",
    "**Nel modulo `sol.shepherd.py`, si definisca la funzione:**\n",
    "\n",
    "```python\n",
    "def shepherd(x0, r, N, n)\n",
    "```\n",
    "\n",
    "Che riceva come ingresso:\n",
    "\n",
    "* Il valore iniziale della popolazione $x_0$\n",
    "* Il valore di $r$ e di $N$\n",
    "* Il numero $n$ di passi da simulare\n",
    "\n",
    "La funzione deve restituire:\n",
    "\n",
    "* Una lista con i valori della popolazione $\\{x_0, x_2, \\ldots x_n\\}$\n",
    "\n",
    "**Si collaudi la funzione nella cella seguente**"
   ]
  },
  {
   "cell_type": "code",
   "execution_count": 2,
   "metadata": {},
   "outputs": [
    {
     "name": "stdout",
     "output_type": "stream",
     "text": [
      "The autoreload extension is already loaded. To reload it, use:\n",
      "  %reload_ext autoreload\n"
     ]
    }
   ],
   "source": [
    "%load_ext autoreload\n",
    "%autoreload 2"
   ]
  },
  {
   "cell_type": "markdown",
   "metadata": {
    "slideshow": {
     "slide_type": "subslide"
    }
   },
   "source": [
    "## Esercizio: Modello di Shepherd\n",
    "\n",
    "**Utilizzando i valori suggeriti, si disegni l'andamento della popolazione**"
   ]
  },
  {
   "cell_type": "code",
   "execution_count": 3,
   "metadata": {},
   "outputs": [],
   "source": [
    "x0 = 0.1\n",
    "r = 2.0\n",
    "N = 1\n",
    "n = 100"
   ]
  },
  {
   "cell_type": "markdown",
   "metadata": {
    "slideshow": {
     "slide_type": "subslide"
    }
   },
   "source": [
    "## Esercizio: Modello di Shepherd\n",
    "\n",
    "**Determinare approssimativamente**\n",
    "\n",
    "* Per quali valori di $r$ la popolazione collassa?\n",
    "* Per quali valori di $r$ la popolazione cresce?\n",
    "* Per quali si assesta sul valore $N$?\n",
    "* Il sistema può assumere comportamento periodico?\n",
    "* Il sistema può oscillare?\n",
    "* Il sistema può assumere comportamento caotico?"
   ]
  },
  {
   "cell_type": "code",
   "execution_count": 4,
   "metadata": {
    "scrolled": false
   },
   "outputs": [],
   "source": [
    "x0 = 0.5\n",
    "N = 1\n",
    "n = 100"
   ]
  }
 ],
 "metadata": {
  "celltoolbar": "Slideshow",
  "kernelspec": {
   "display_name": "Python 3 (ipykernel)",
   "language": "python",
   "name": "python3"
  },
  "language_info": {
   "codemirror_mode": {
    "name": "ipython",
    "version": 3
   },
   "file_extension": ".py",
   "mimetype": "text/x-python",
   "name": "python",
   "nbconvert_exporter": "python",
   "pygments_lexer": "ipython3",
   "version": "3.9.5"
  },
  "rise": {
   "center": false,
   "enable_chalkboard": true,
   "transition": "fade"
  }
 },
 "nbformat": 4,
 "nbformat_minor": 4
}
