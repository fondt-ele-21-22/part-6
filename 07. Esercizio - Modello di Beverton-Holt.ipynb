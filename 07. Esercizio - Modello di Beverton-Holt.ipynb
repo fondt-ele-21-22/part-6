{
 "cells": [
  {
   "cell_type": "markdown",
   "metadata": {
    "slideshow": {
     "slide_type": "subslide"
    }
   },
   "source": [
    "## Esercizio: Modello di Beverton-Holt\n",
    "\n",
    "**Il modello di popolazione _Beverton-Holt_ è definito dalla ricorsione:**\n",
    "\n",
    "$$\n",
    "x_{k+1} = \\frac{r x_k}{1 + \\frac{x_k}{N}}\n",
    "$$\n",
    "\n",
    "* Dove:\n",
    "  - $x_k$ è il valore della popolazione al passo $k$\n",
    "  - $r \\in [1, 2]$ è il tasso di crescita\n",
    "  - $N$ è un valore di popolazione che, se raggiunto, dimezza $r$"
   ]
  },
  {
   "cell_type": "markdown",
   "metadata": {
    "slideshow": {
     "slide_type": "subslide"
    }
   },
   "source": [
    "## Esercizio: Modello di Beverton-Holt\n",
    "\n",
    "**Nel modulo `sol.bh.py`, si definisca la funzione:**\n",
    "\n",
    "```python\n",
    "def bh(x0, r, N, n)\n",
    "```\n",
    "\n",
    "Che riceva come ingresso:\n",
    "\n",
    "* Il valore iniziale della popolazione $x_0$\n",
    "* Il valore di $r$ e di $N$\n",
    "* Il numero $n$ di passi da simulare\n",
    "\n",
    "La funzione deve restituire:\n",
    "\n",
    "* Una lista con i valori della popolazione $\\{x_0, x_2, \\ldots x_n\\}$\n",
    "\n",
    "**Si collaudi la funzione nella cella seguente**"
   ]
  },
  {
   "cell_type": "code",
   "execution_count": 1,
   "metadata": {},
   "outputs": [],
   "source": [
    "%load_ext autoreload\n",
    "%autoreload 2"
   ]
  },
  {
   "cell_type": "markdown",
   "metadata": {
    "slideshow": {
     "slide_type": "subslide"
    }
   },
   "source": [
    "## Esercizio: Modello di Beverton-Holt\n",
    "\n",
    "**Utilizzando i valori suggeriti, si disegni l'andamento della popolazione**"
   ]
  },
  {
   "cell_type": "code",
   "execution_count": 3,
   "metadata": {},
   "outputs": [],
   "source": [
    "x0 = 0.5\n",
    "r = 1.6\n",
    "N = 1\n",
    "n = 100"
   ]
  },
  {
   "cell_type": "markdown",
   "metadata": {
    "slideshow": {
     "slide_type": "subslide"
    }
   },
   "source": [
    "## Esercizio: Modello di Beverton-Holt\n",
    "\n",
    "**Determinare approssimativamente**\n",
    "\n",
    "* Per quali valori di $r$ la popolazione cresce?\n",
    "* Per quali valori di $r$ collassa?\n",
    "* Il sistema può assumere comportamento periodico?\n",
    "* Il sistema può oscillare?\n",
    "* Il sistema può assumere comportamento caotico?"
   ]
  },
  {
   "cell_type": "code",
   "execution_count": 4,
   "metadata": {},
   "outputs": [],
   "source": [
    "x0 = 0.5\n",
    "N = 1\n",
    "n = 100"
   ]
  }
 ],
 "metadata": {
  "celltoolbar": "Slideshow",
  "kernelspec": {
   "display_name": "Python 3 (ipykernel)",
   "language": "python",
   "name": "python3"
  },
  "language_info": {
   "codemirror_mode": {
    "name": "ipython",
    "version": 3
   },
   "file_extension": ".py",
   "mimetype": "text/x-python",
   "name": "python",
   "nbconvert_exporter": "python",
   "pygments_lexer": "ipython3",
   "version": "3.9.5"
  },
  "rise": {
   "center": false,
   "enable_chalkboard": true,
   "transition": "fade"
  }
 },
 "nbformat": 4,
 "nbformat_minor": 4
}
