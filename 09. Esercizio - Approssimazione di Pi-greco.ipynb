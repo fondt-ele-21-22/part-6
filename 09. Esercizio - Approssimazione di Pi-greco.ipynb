{
 "cells": [
  {
   "cell_type": "markdown",
   "metadata": {
    "slideshow": {
     "slide_type": "subslide"
    }
   },
   "source": [
    "## Esercizio: Approssimazione di Pi\n",
    "\n",
    "**Il valore di $\\pi$ può essere approssimato con la serie troncata:**\n",
    "\n",
    "$$\n",
    "\\pi \\simeq 4 \\sum_{n=0}^{m} (-1)^n \\frac{1}{2n+1}\n",
    "$$\n",
    "\n",
    "* L'approssimazione è nota come serie di [Madhava-Leibniz](https://en.wikipedia.org/wiki/Leibniz_formula_for_%CF%80)\n",
    "* ...Ed è stata scoperta intorno al 14-mo secolo\n",
    "\n",
    "**Si desidera valutarne empiricamente la convergenza**"
   ]
  },
  {
   "cell_type": "markdown",
   "metadata": {
    "slideshow": {
     "slide_type": "subslide"
    }
   },
   "source": [
    "## Esercizio: Approssimazione di Pi\n",
    "\n",
    "**Nel modulo `sol.pi_approx` si definisca una funzione:**\n",
    "\n",
    "```python\n",
    "def madhava_leibniz(m)\n",
    "```\n",
    "\n",
    "Che riceva in ingresso:\n",
    "\n",
    "* Il valore di $m$\n",
    "\n",
    "E restituisca:\n",
    "\n",
    "* Una lista contenenti i valori parziali della somma della serie di Madhava-Leibniz\n",
    "* In pratica, il $k$-mo elemento della lista deve contenere:\n",
    "\n",
    "$$\n",
    "4 \\sum_{n=0}^{k} (-1)^n \\frac{1}{2n+1}\n",
    "$$\n",
    "\n",
    "**Si collaudi la funzione nella cella seguente**"
   ]
  },
  {
   "cell_type": "code",
   "execution_count": 1,
   "metadata": {},
   "outputs": [],
   "source": [
    "%load_ext autoreload\n",
    "%autoreload 2\n"
   ]
  },
  {
   "cell_type": "markdown",
   "metadata": {},
   "source": [
    "**Si definisca quindi una funzione**\n",
    "\n",
    "```python\n",
    "def get_diff(series)\n",
    "```\n",
    "\n",
    "Che riceva in ingresso:\n",
    "\n",
    "* Una serie calcolata dalla funzione precedente\n",
    "\n",
    "E restituisca:\n",
    "\n",
    "* Una lista contenere la differenza tra l'elemento $k$-mo nella lista e $\\pi$\n",
    "\n",
    "**Si collaudi la funzione nella cella seguente**"
   ]
  },
  {
   "cell_type": "code",
   "execution_count": null,
   "metadata": {},
   "outputs": [],
   "source": []
  },
  {
   "cell_type": "markdown",
   "metadata": {},
   "source": [
    "**Si disegni su un grafico la sequenza delle differenze ottenuto con `get_diff`**\n",
    "\n",
    "A questo scopo:\n",
    "\n",
    "* Si ripetano tutti i passi del calcolo\n",
    "  - I.e. chiamate a `madhava_leibniz` e `get_diff`\n",
    "* Si utilizzi il valore di $m$ suggerito"
   ]
  },
  {
   "cell_type": "code",
   "execution_count": null,
   "metadata": {},
   "outputs": [],
   "source": []
  }
 ],
 "metadata": {
  "celltoolbar": "Slideshow",
  "kernelspec": {
   "display_name": "Python 3 (ipykernel)",
   "language": "python",
   "name": "python3"
  },
  "language_info": {
   "codemirror_mode": {
    "name": "ipython",
    "version": 3
   },
   "file_extension": ".py",
   "mimetype": "text/x-python",
   "name": "python",
   "nbconvert_exporter": "python",
   "pygments_lexer": "ipython3",
   "version": "3.9.5"
  },
  "rise": {
   "center": false,
   "enable_chalkboard": true,
   "transition": "fade"
  }
 },
 "nbformat": 4,
 "nbformat_minor": 4
}
