{
 "cells": [
  {
   "cell_type": "markdown",
   "metadata": {
    "slideshow": {
     "slide_type": "subslide"
    }
   },
   "source": [
    "## Esercizio: Approssimazione di Pi (2)\n",
    "\n",
    "**Il valore di $\\pi$ può essere approssimato sfruttando la relazione:**\n",
    "\n",
    "$$\n",
    "\\frac{1}{\\pi} \\simeq \\frac{2\\sqrt{2}}{9801}\\sum_{n=0}^m \\frac{(4n)! (1103 + 26390n)}{(n!)^4 396^{4n}}\n",
    "$$\n",
    "\n",
    "* L'approssimazione è dovuta al matematico [Srinivasa Ramanujan](https://en.wikipedia.org/wiki/Srinivasa_Ramanujan)\n",
    "* ...Che l'ha scoperta nel 1910\n",
    "\n",
    "**Si desidera valutarne empiricamente la convergenza**"
   ]
  },
  {
   "cell_type": "markdown",
   "metadata": {
    "slideshow": {
     "slide_type": "subslide"
    }
   },
   "source": [
    "## Esercizio: Approssimazione di Pi\n",
    "\n",
    "**Nel modulo `sol.pi_approx` si definisca una funzione:**\n",
    "\n",
    "```python\n",
    "def ramanujan(m)\n",
    "```\n",
    "\n",
    "Che riceva in ingresso:\n",
    "\n",
    "* Il valore di $m$\n",
    "\n",
    "E restituisca:\n",
    "\n",
    "* Una lista contenenti i valori parziali della somma della serie di Ramanujan\n",
    "* In pratica, il $k$-mo elemento della lista deve contenere:\n",
    "\n",
    "$$\n",
    "\\left(\\frac{2\\sqrt{2}}{9801}\\sum_{n=0}^k \\frac{(4n)! (1103 + 26390n)}{(n!)^4 396^{4n}}\\right)^{-1}\n",
    "$$\n",
    "\n",
    "**Si collaudi la funzione nella cella seguente**"
   ]
  },
  {
   "cell_type": "code",
   "execution_count": 1,
   "metadata": {},
   "outputs": [],
   "source": [
    "%load_ext autoreload\n",
    "%autoreload 2"
   ]
  },
  {
   "cell_type": "markdown",
   "metadata": {},
   "source": [
    "**Si disegni su un grafico la sequenza delle differenze**\n",
    "\n",
    "A questo scopo:\n",
    "\n",
    "* Si utilizzi la funzione `get_diff` già definita per l'esercizio precedente\n",
    "* Si ripetano tutti i passi del calcolo\n",
    "  - I.e. chiamate a `ramanujan` e `get_diff`\n",
    "* Si utilizzi il valore di $m$ suggerito"
   ]
  },
  {
   "cell_type": "code",
   "execution_count": null,
   "metadata": {},
   "outputs": [],
   "source": []
  },
  {
   "cell_type": "markdown",
   "metadata": {},
   "source": [
    "Si noti come la serie convergence _molto_ più velocemente di quella di Madhava-Leibniz"
   ]
  }
 ],
 "metadata": {
  "celltoolbar": "Slideshow",
  "kernelspec": {
   "display_name": "Python 3 (ipykernel)",
   "language": "python",
   "name": "python3"
  },
  "language_info": {
   "codemirror_mode": {
    "name": "ipython",
    "version": 3
   },
   "file_extension": ".py",
   "mimetype": "text/x-python",
   "name": "python",
   "nbconvert_exporter": "python",
   "pygments_lexer": "ipython3",
   "version": "3.9.5"
  },
  "rise": {
   "center": false,
   "enable_chalkboard": true,
   "transition": "fade"
  }
 },
 "nbformat": 4,
 "nbformat_minor": 4
}
